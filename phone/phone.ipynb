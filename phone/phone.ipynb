{
 "cells": [
  {
   "cell_type": "code",
   "execution_count": 19,
   "metadata": {},
   "outputs": [
    {
     "name": "stdout",
     "output_type": "stream",
     "text": [
      "['.{3}-.{4}-.{4}', '.{3}-.{3}-.{4}', '.{2}-.{4}-.{4}', '.{2}-.{3}-.{4}', ['(^| )[O0](^| )[O0](^| )[O0](^| )[O0]-[O0][O0][O0][O0]']]\n"
     ]
    },
    {
     "ename": "TypeError",
     "evalue": "unhashable type: 'list'",
     "output_type": "error",
     "traceback": [
      "\u001b[1;31m---------------------------------------------------------------------------\u001b[0m",
      "\u001b[1;31mTypeError\u001b[0m                                 Traceback (most recent call last)",
      "\u001b[1;32mc:\\Exception\\I_want_PII_NER\\phone\\phone.ipynb Cell 1'\u001b[0m in \u001b[0;36m<cell line: 10>\u001b[1;34m()\u001b[0m\n\u001b[0;32m      <a href='vscode-notebook-cell:/c%3A/Exception/I_want_PII_NER/phone/phone.ipynb#ch0000000?line=7'>8</a>\u001b[0m \u001b[39mprint\u001b[39m(phone_regs)\n\u001b[0;32m      <a href='vscode-notebook-cell:/c%3A/Exception/I_want_PII_NER/phone/phone.ipynb#ch0000000?line=8'>9</a>\u001b[0m bus \u001b[39m=\u001b[39m [\u001b[39m'\u001b[39m\u001b[39mOOOOOO-OOOOOOOkj\u001b[39m\u001b[39m'\u001b[39m, \u001b[39m'\u001b[39m\u001b[39m0000-0O0O\u001b[39m\u001b[39m'\u001b[39m, \u001b[39m'\u001b[39m\u001b[39m0000-0O0Okjkj\u001b[39m\u001b[39m'\u001b[39m, \u001b[39m'\u001b[39m\u001b[39m 0000-0O0Okjkj\u001b[39m\u001b[39m'\u001b[39m, \u001b[39m'\u001b[39m\u001b[39m00000-0O0Okjkj\u001b[39m\u001b[39m'\u001b[39m]\n\u001b[1;32m---> <a href='vscode-notebook-cell:/c%3A/Exception/I_want_PII_NER/phone/phone.ipynb#ch0000000?line=9'>10</a>\u001b[0m phone_pattern \u001b[39m=\u001b[39m re\u001b[39m.\u001b[39;49mcompile(phone_regs[\u001b[39m-\u001b[39;49m\u001b[39m1\u001b[39;49m])\n\u001b[0;32m     <a href='vscode-notebook-cell:/c%3A/Exception/I_want_PII_NER/phone/phone.ipynb#ch0000000?line=10'>11</a>\u001b[0m \u001b[39mfor\u001b[39;00m phone_reg \u001b[39min\u001b[39;00m phone_regs:\n\u001b[0;32m     <a href='vscode-notebook-cell:/c%3A/Exception/I_want_PII_NER/phone/phone.ipynb#ch0000000?line=11'>12</a>\u001b[0m     \u001b[39mfor\u001b[39;00m bu \u001b[39min\u001b[39;00m bus:\n",
      "File \u001b[1;32m~\\AppData\\Local\\Programs\\Python\\Python310\\lib\\re.py:251\u001b[0m, in \u001b[0;36mcompile\u001b[1;34m(pattern, flags)\u001b[0m\n\u001b[0;32m    <a href='file:///c%3A/Users/sayidev42/AppData/Local/Programs/Python/Python310/lib/re.py?line=248'>249</a>\u001b[0m \u001b[39mdef\u001b[39;00m \u001b[39mcompile\u001b[39m(pattern, flags\u001b[39m=\u001b[39m\u001b[39m0\u001b[39m):\n\u001b[0;32m    <a href='file:///c%3A/Users/sayidev42/AppData/Local/Programs/Python/Python310/lib/re.py?line=249'>250</a>\u001b[0m     \u001b[39m\"\u001b[39m\u001b[39mCompile a regular expression pattern, returning a Pattern object.\u001b[39m\u001b[39m\"\u001b[39m\n\u001b[1;32m--> <a href='file:///c%3A/Users/sayidev42/AppData/Local/Programs/Python/Python310/lib/re.py?line=250'>251</a>\u001b[0m     \u001b[39mreturn\u001b[39;00m _compile(pattern, flags)\n",
      "File \u001b[1;32m~\\AppData\\Local\\Programs\\Python\\Python310\\lib\\re.py:293\u001b[0m, in \u001b[0;36m_compile\u001b[1;34m(pattern, flags)\u001b[0m\n\u001b[0;32m    <a href='file:///c%3A/Users/sayidev42/AppData/Local/Programs/Python/Python310/lib/re.py?line=290'>291</a>\u001b[0m     flags \u001b[39m=\u001b[39m flags\u001b[39m.\u001b[39mvalue\n\u001b[0;32m    <a href='file:///c%3A/Users/sayidev42/AppData/Local/Programs/Python/Python310/lib/re.py?line=291'>292</a>\u001b[0m \u001b[39mtry\u001b[39;00m:\n\u001b[1;32m--> <a href='file:///c%3A/Users/sayidev42/AppData/Local/Programs/Python/Python310/lib/re.py?line=292'>293</a>\u001b[0m     \u001b[39mreturn\u001b[39;00m _cache[\u001b[39mtype\u001b[39;49m(pattern), pattern, flags]\n\u001b[0;32m    <a href='file:///c%3A/Users/sayidev42/AppData/Local/Programs/Python/Python310/lib/re.py?line=293'>294</a>\u001b[0m \u001b[39mexcept\u001b[39;00m \u001b[39mKeyError\u001b[39;00m:\n\u001b[0;32m    <a href='file:///c%3A/Users/sayidev42/AppData/Local/Programs/Python/Python310/lib/re.py?line=294'>295</a>\u001b[0m     \u001b[39mpass\u001b[39;00m\n",
      "\u001b[1;31mTypeError\u001b[0m: unhashable type: 'list'"
     ]
    }
   ],
   "source": [
    "import re\n",
    "\n",
    "phone_regs = []\n",
    "for i in range(3, 1, -1):\n",
    "    for j in range(4, 2, -1):\n",
    "        phone_regs.append(f\".{{{i}}}-.{{{j}}}-.{{4}}\")\n",
    "phone_regs.append(['(^| )[O0]' * 4 + '-' + '[O0]' * 4])\n",
    "print(phone_regs)\n",
    "bus = ['OOOOOO-OOOOOOOkj', '0000-0O0O', '0000-0O0Okjkj', ' 0000-0O0Okjkj', '00000-0O0Okjkj']\n",
    "for phone_reg in phone_regs:\n",
    "    phone_pattern = re.compile(phone_regs)\n",
    "    for bu in bus:\n",
    "        searched = phone_pattern.search(bu)\n",
    "        if searched:\n",
    "            print(searched)"
   ]
  }
 ],
 "metadata": {
  "interpreter": {
   "hash": "c880ae861b9c44a5692b54c68262594a5cab97fe14fe90aeafc72e428238a7cf"
  },
  "kernelspec": {
   "display_name": "Python 3.10.2 ('pii_recog': venv)",
   "language": "python",
   "name": "python3"
  },
  "language_info": {
   "codemirror_mode": {
    "name": "ipython",
    "version": 3
   },
   "file_extension": ".py",
   "mimetype": "text/x-python",
   "name": "python",
   "nbconvert_exporter": "python",
   "pygments_lexer": "ipython3",
   "version": "3.10.2"
  },
  "orig_nbformat": 4
 },
 "nbformat": 4,
 "nbformat_minor": 2
}
