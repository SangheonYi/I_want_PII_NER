{
 "cells": [
  {
   "cell_type": "code",
   "execution_count": 10,
   "metadata": {},
   "outputs": [],
   "source": [
    "with open(\"../res/non_labled\", \"r\", encoding=\"utf-8\") as file, open(\"../res/outlabled\", \"w\", encoding=\"utf-8\") as edited_file:\n",
    "    while True:\n",
    "        line = file.readline()\n",
    "        if not line : break\n",
    "        tokens = line.split()\n",
    "        token_count = len(tokens) - 1\n",
    "        outlable = 'O'\n",
    "        for token in tokens:\n",
    "            outlable += ' O'\n",
    "        line = line.replace('\\n', ' ') + outlable + '\\n'\n",
    "        edited_file.write(line)"
   ]
  },
  {
   "cell_type": "code",
   "execution_count": 36,
   "metadata": {},
   "outputs": [],
   "source": [
    "b_lables = ['SS_AGE-B', 'SS_BIRTH-B', 'SS_NAME-B', 'SS_BRAND-B',\n",
    "'AD_ADDRESS-B', 'AD_DETAIL-B',\n",
    " 'ID_PHONE-B', 'ID_INUM-B', 'ID_ACCOUNT-B', 'ID_CARD-B']\n",
    "i_lables = [b_lable[-1] + 'I' for b_lable in b_lables]\n",
    " \n",
    "# SS_NAME-B ID_INUM-B\n",
    "# ID_INUM-B ID_INUM-I ID_INUM-I\n",
    "# AD_ADDRESS-B AD_ADDRESS-I AD_DETAIL-B\n",
    "# AD_ADDRESS-B AD_ADDRESS-I AD_ADDRESS-I\n",
    "# AD_DETAIL-B AD_DETAIL-I\n",
    "# , , , , 김지우, 류명욱, 백은용, 황보영석, 탁인태, 최영태, 남민경, 이지혁, 남수연, 송병현, 사공시은, 류태웅, 오용희, 송재근, 봉은일, 제갈연수\n",
    "\n",
    "# 윤하영, 임승호, 권시윤, 제갈대식, 표은철, 정현웅, 추기태, 오수혜, 배은선, 황주하, 설경하, 오지석, 황기철, 양대원, 조선준, 남승민, 배상학, 문성기, 류선혜, 김시우"
   ]
  },
  {
   "cell_type": "code",
   "execution_count": null,
   "metadata": {},
   "outputs": [],
   "source": [
    "\n",
    "line = 'dkji  sk'\n",
    "phone_pattern = re.compile('kk')\n",
    "print(phone_pattern)\n",
    "searched = phone_pattern.search(line)\n",
    "if searched:\n",
    "    print(searched.group())\n"
   ]
  },
  {
   "cell_type": "code",
   "execution_count": 90,
   "metadata": {},
   "outputs": [],
   "source": [
    "with open(\"../res/labled.kt\", \"r\", encoding=\"utf-8\") as file, open(\"../res/parsed.py\", \"w\", encoding=\"utf-8\") as edited_file:\n",
    "    cnt = 0\n",
    "    i = 0\n",
    "    changed = ''\n",
    "\n",
    "    while True:\n",
    "        line = file.readline()\n",
    "        if not line : break\n",
    "        tokens, lables = splitTokenAndLable(line)\n",
    "        mid = len(tokens)\n",
    "        for j, token in enumerate(tokens):\n",
    "            lables[j] = lables[j].ljust(len(token), '.')\n",
    "        \n",
    "        edited_file.write('\\t'.join(tokens) + '\\n' + '\\t'.join(lables) + '\\n')\n",
    "    # edited_file.write(str(list(dong)))"
   ]
  }
 ],
 "metadata": {
  "interpreter": {
   "hash": "c880ae861b9c44a5692b54c68262594a5cab97fe14fe90aeafc72e428238a7cf"
  },
  "kernelspec": {
   "display_name": "Python 3.10.2 ('pii_recog': venv)",
   "language": "python",
   "name": "python3"
  },
  "language_info": {
   "codemirror_mode": {
    "name": "ipython",
    "version": 3
   },
   "file_extension": ".py",
   "mimetype": "text/x-python",
   "name": "python",
   "nbconvert_exporter": "python",
   "pygments_lexer": "ipython3",
   "version": "3.10.2"
  },
  "orig_nbformat": 4
 },
 "nbformat": 4,
 "nbformat_minor": 2
}
