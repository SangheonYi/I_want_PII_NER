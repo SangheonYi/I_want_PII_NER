{
 "cells": [
  {
   "cell_type": "code",
   "execution_count": 10,
   "metadata": {},
   "outputs": [],
   "source": [
    "with open(\"../res/non_labled\", \"r\", encoding=\"utf-8\") as file, open(\"../res/outlabled\", \"w\", encoding=\"utf-8\") as edited_file:\n",
    "    while True:\n",
    "        line = file.readline()\n",
    "        if not line : break\n",
    "        tokens = line.split()\n",
    "        token_count = len(tokens) - 1\n",
    "        outlable = 'O'\n",
    "        for token in tokens:\n",
    "            outlable += ' O'\n",
    "        line = line.replace('\\n', ' ') + outlable + '\\n'\n",
    "        edited_file.write(line)"
   ]
  },
  {
   "cell_type": "code",
   "execution_count": 5,
   "metadata": {},
   "outputs": [
    {
     "name": "stdout",
     "output_type": "stream",
     "text": [
      "[['31310', '1931310', '1938년 12월 17일', '뒷자리 ->> 4317497']]\n",
      "['1   1', '2   75', '3   242', '4   1652', '5   79447', '6   398184', '7   2437720', '8   44646068', '9   511245430']\n",
      "[['019', '042', '02', '3384', '']]\n",
      "['하나', '에이스손해보험']\n"
     ]
    }
   ],
   "source": [
    "import random\n",
    "\n",
    "mask = \"[O0]\"\n",
    "seperators = \"- .\"\n",
    "cell_phone_heads = [\n",
    "        \"010\", \"011\", \"016\", \"017\", \"018\", \"019\"        \n",
    "]\n",
    "local_numbers = [\n",
    "        \"020\", \"030\", \"040\", \"090\",\n",
    "        \"050\", \"0505\",\n",
    "        \"060\", \"070\", \"080\",\n",
    "\n",
    "        \"031\", \"032\", \"033\",\n",
    "        \"041\", \"042\", \"043\", \"044\",    \n",
    "        \"051\", \"052\", \"053\", \"054\", \"055\",\n",
    "        \"061\", \"062\", \"063\", \"064\",]\n",
    "# four_digits = [\n",
    "#       \"1566\", \"1600\", \"1670\",\n",
    "#       \"1577\", \"1588\", \"1899\",\n",
    "#       \"1522\", \"1544\", \"1644\", \"1661\",\n",
    "#       \"1599\",\n",
    "#       \"1688\", \"1666\",\n",
    "#       \"1855\",\n",
    "#       \"1811\", \"1877\",]\n",
    "banks = ['경남', '광주', '국민', '농협', '대구', '부산', '수협', '신한', '우리', '전북', '제주', '중소기업', '카카오뱅크', '케이뱅크', '토스뱅크', '하나', '한국산업', '한국스탠다드차타드']\n",
    "insurances = ['ABL생명', 'AIA생명', 'BNP파리바카디프생명', 'DB생명', 'DGB생명', 'IBK연금보험', 'KB생명', 'KDB생명', 'NH농협생명', '교보라이프플래닛', '교보생명', '동양생명', '라이나생명', '메트라이프생명', '미래에셋생명', '삼성생명', '신한라이프(구 신한생명)', '신한라이프(구 오렌지라이프)', '처브라이프', '푸르덴셜생명', '하나생명', '한화생명', '현대라이프생명', '흥국생명', 'AIG손해보험', 'BNP파리바카디프손해보험', 'KB손해보험', 'MG손해보험', 'NH농협손해보험', 'SGI서울보증', 'The - K 손해보험', '동부화재해상보험', '롯데손해보험', '메리츠화재해상보험', '삼성화재해상보험', '악사손해보험', '에이스손해보험', '한화손해보험', '현대해상화재보험', '흥국화재해상보험']\n",
    "cards = ['BC바로카드', 'KB국민카드', '롯데카드', '삼성카드', '신한카드', '우리카드', '하나카드', '현대카드', 'BMW파이낸셜코리아', 'KB캐피탈', '아프로캐피탈', '애큐온캐피탈', '폭스바겐 파이낸셜', 'BNK캐피탈', 'JB우리캐피탈', 'NH농협캐피탈', '롯데캐피탈', '메리츠캐피탈', '아주캐피탈', '알씨아이파이낸셜서비스코리아', '에이캐피탈', '하나캐피탈', '한국캐피탈', '현대캐피탈', '현대커머셜']\n",
    "NEED_CHECK = \"NEED_CHECK\"\n",
    "\n",
    "def str_random(start, end):\n",
    "    return str(random.randint(start, end))\n",
    "\n",
    "def fit_date_format(date):\n",
    "    if len(date) < 2:\n",
    "        return '0' + date\n",
    "    return date\n",
    "def make_random_number(start, random_size):\n",
    "    result = start\n",
    "    for i in range(random_size):\n",
    "        result += str_random(0, 9)\n",
    "    return result\n",
    "\n",
    "def random_phone_head_number():\n",
    "    return [random.choice(cell_phone_heads), random.choice(local_numbers), \"02\", make_random_number(\"\", 4), \"\"]\n",
    "\n",
    "def random_inum():\n",
    "    inum = []\n",
    "    year = str_random(1930, 2022)\n",
    "    month = fit_date_format(str_random(1, 12))\n",
    "    day = fit_date_format(str_random(1, 31))\n",
    "    birth = year + month + day\n",
    "    inum.append(birth[2:])\n",
    "    inum.append(birth)\n",
    "    inum.append(year + '년 ' + month + '월 ' + birth + '일')\n",
    "    inum.append('뒷자리 ->> ' + str_random(1800000, 4999999))\n",
    "    return inum\n",
    "\n",
    "def make_random_data(task):\n",
    "    output = []\n",
    "    if task == 1:\n",
    "        output.append(random_inum())\n",
    "    if task == 2:\n",
    "        for i in range(1, 10):\n",
    "            output.append(f'{i}   ' + make_random_number('', i))\n",
    "    elif task == 3:\n",
    "        output.append(random_phone_head_number())\n",
    "    elif task == 4:\n",
    "        output.append(random.choice(banks))\n",
    "        output.append(random.choice(insurances))\n",
    "    print(output)\n",
    "\n",
    "# for i in range(20):\n",
    "#     make_random_data(4)\n",
    "for i in range(1, 5):\n",
    "    make_random_data(i)\n",
    "\n"
   ]
  },
  {
   "cell_type": "code",
   "execution_count": null,
   "metadata": {},
   "outputs": [],
   "source": [
    "b_lables = ['SS_AGE-B', 'SS_WEIGHT-B', 'SS_LENGTH-B', 'SS_GENDER-B', 'SS_NAME-B', 'SS_BRAND-B', 'SS_BIRTH-B', 'AD_ADDRESS-B', 'AD_DETAIL-B', 'ID_PHONE-B', 'ID_INUM-B', 'ID_ACCOUNT-B', 'ID_CARD-B']\n"
   ]
  }
 ],
 "metadata": {
  "interpreter": {
   "hash": "c880ae861b9c44a5692b54c68262594a5cab97fe14fe90aeafc72e428238a7cf"
  },
  "kernelspec": {
   "display_name": "Python 3.10.2 ('pii_recog': venv)",
   "language": "python",
   "name": "python3"
  },
  "language_info": {
   "codemirror_mode": {
    "name": "ipython",
    "version": 3
   },
   "file_extension": ".py",
   "mimetype": "text/x-python",
   "name": "python",
   "nbconvert_exporter": "python",
   "pygments_lexer": "ipython3",
   "version": "3.10.2"
  },
  "orig_nbformat": 4
 },
 "nbformat": 4,
 "nbformat_minor": 2
}
